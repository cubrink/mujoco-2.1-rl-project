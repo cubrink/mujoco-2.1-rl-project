{
 "cells": [
  {
   "cell_type": "markdown",
   "metadata": {},
   "source": [
    "# Interpretting MuJoCo using the Gym environment\n",
    "\n",
    "OpenAI has created a Gym environment for interacting with MuJoCo. This notebook will give you the basics of how to interact with the environment and how to interpret it"
   ]
  },
  {
   "cell_type": "markdown",
   "metadata": {},
   "source": [
    "### Import libraries\n",
    "\n",
    "Import the `gym` environment to interact with environment.\n",
    "We also will use `numpy` to make interacting with the data more convenient"
   ]
  },
  {
   "cell_type": "code",
   "execution_count": 1,
   "metadata": {},
   "outputs": [],
   "source": [
    "import gym\n",
    "import numpy as np"
   ]
  },
  {
   "cell_type": "markdown",
   "metadata": {},
   "source": [
    "### Load the MuJoCo environment\n",
    "\n",
    "Load a MuJoCo environment. We will use the 'Ant-v3' environment which has the goal of maximizing movement to the right.\n",
    "\n",
    "To better understand the environment look at the [model used](https://gym.openai.com/envs/Ant-v2/). We will want to train the model to walk.\n",
    "(Note, the model linked is called 'Ant-v2', this is because the 'Ant-v2' and 'Ant-v3' environments use the same character model)"
   ]
  },
  {
   "cell_type": "code",
   "execution_count": 2,
   "metadata": {},
   "outputs": [],
   "source": [
    "env = gym.make('Ant-v3')\n",
    "obs = env.reset()"
   ]
  },
  {
   "cell_type": "markdown",
   "metadata": {},
   "source": [
    "### Observation and Action spaces\n",
    "\n",
    "The agent's observation in this environment is a vector of length 111.\n",
    "\n",
    "We will see how to interpret this observation soon"
   ]
  },
  {
   "cell_type": "code",
   "execution_count": 3,
   "metadata": {},
   "outputs": [
    {
     "name": "stdout",
     "output_type": "stream",
     "text": [
      "Total of 111 observations\n",
      "[ 7.66922597e-01  9.95416633e-01  4.60097523e-02  2.78333217e-02\n",
      "  7.90830947e-02 -4.81468545e-02 -9.48028434e-02 -2.60754144e-02\n",
      "  5.19646702e-02  3.69375576e-02 -9.00599800e-02 -9.66656109e-02\n",
      "  8.01901452e-02 -1.70890899e-01 -2.25243027e-02 -7.70366981e-02\n",
      "  4.04252178e-02 -8.72032049e-02  7.71853388e-02  7.42523956e-02\n",
      " -1.14537546e-02  8.59330443e-02  1.55663910e-02  5.76117157e-02\n",
      "  7.04248884e-02 -7.93171507e-02 -7.84296295e-04  0.00000000e+00\n",
      "  0.00000000e+00  0.00000000e+00  0.00000000e+00  0.00000000e+00\n",
      "  0.00000000e+00  0.00000000e+00  0.00000000e+00  0.00000000e+00\n",
      "  0.00000000e+00  0.00000000e+00  0.00000000e+00  0.00000000e+00\n",
      "  0.00000000e+00  0.00000000e+00  0.00000000e+00  0.00000000e+00\n",
      "  0.00000000e+00  0.00000000e+00  0.00000000e+00  0.00000000e+00\n",
      "  0.00000000e+00  0.00000000e+00  0.00000000e+00  0.00000000e+00\n",
      "  0.00000000e+00  0.00000000e+00  0.00000000e+00  0.00000000e+00\n",
      "  0.00000000e+00  0.00000000e+00  0.00000000e+00  0.00000000e+00\n",
      "  0.00000000e+00  0.00000000e+00  0.00000000e+00  0.00000000e+00\n",
      "  0.00000000e+00  0.00000000e+00  0.00000000e+00  0.00000000e+00\n",
      "  0.00000000e+00  0.00000000e+00  0.00000000e+00  0.00000000e+00\n",
      "  0.00000000e+00  0.00000000e+00  0.00000000e+00  0.00000000e+00\n",
      "  0.00000000e+00  0.00000000e+00  0.00000000e+00  0.00000000e+00\n",
      "  0.00000000e+00  0.00000000e+00  0.00000000e+00  0.00000000e+00\n",
      "  0.00000000e+00  0.00000000e+00  0.00000000e+00  0.00000000e+00\n",
      "  0.00000000e+00  0.00000000e+00  0.00000000e+00  0.00000000e+00\n",
      "  0.00000000e+00  0.00000000e+00  0.00000000e+00  0.00000000e+00\n",
      "  0.00000000e+00  0.00000000e+00  0.00000000e+00  0.00000000e+00\n",
      "  0.00000000e+00  0.00000000e+00  0.00000000e+00  0.00000000e+00\n",
      "  0.00000000e+00  0.00000000e+00  0.00000000e+00  0.00000000e+00\n",
      "  0.00000000e+00  0.00000000e+00  0.00000000e+00]\n"
     ]
    }
   ],
   "source": [
    "print(f\"Total of {env.observation_space.shape[0]} observations\")\n",
    "print(obs)"
   ]
  },
  {
   "cell_type": "markdown",
   "metadata": {},
   "source": [
    "The action space for this environment is of length 8 which cooresponds to the number of joints on the ant.\n",
    "Actions are provided to the ant by giving a vector of length 8, telling the environment what angles to move the joints to."
   ]
  },
  {
   "cell_type": "code",
   "execution_count": 4,
   "metadata": {},
   "outputs": [
    {
     "name": "stdout",
     "output_type": "stream",
     "text": [
      "Total of 8 actions\n"
     ]
    }
   ],
   "source": [
    "print(f\"Total of {env.action_space.shape[0]} actions\")"
   ]
  },
  {
   "cell_type": "markdown",
   "metadata": {},
   "source": [
    "### Interpretting observations\n",
    "\n",
    "Observations have three components: `qpos`, `qvel` and `cfrc_ext` which represent the following:\n",
    "- `qpos`: Positions of parts of the ant\n",
    "- `qvel`: Velocities of parts of the ant\n",
    "- `cfrc_ext`: External contact forces on different parts of the ant. Each part has an associated 6D-vector that is in the form [torque_xyz, force_xyz]\n",
    "\n",
    "Full documentation is available at this [link](https://mujoco.readthedocs.io/en/latest/APIreference.html?highlight=cfrc_ext#mjdata)"
   ]
  },
  {
   "cell_type": "code",
   "execution_count": 5,
   "metadata": {},
   "outputs": [
    {
     "name": "stdout",
     "output_type": "stream",
     "text": [
      "Num position observations = (15,)\n",
      "Num velocity observations = (14,)\n",
      "Num of external contact force vectors = (14, 6)\n",
      "Num external contact force observations = (84,)\n",
      "Total possible observations = 113\n"
     ]
    }
   ],
   "source": [
    "print(f\"Num position observations = {env.sim.data.qpos.shape}\")\n",
    "print(f\"Num velocity observations = {env.sim.data.qvel.shape}\")\n",
    "print(f\"Num of external contact force vectors = {env.sim.data.cfrc_ext.shape}\")\n",
    "print(f\"Num external contact force observations = {env.sim.data.cfrc_ext.flat.copy().shape}\")\n",
    "print(f\"Total possible observations = {env.sim.data.qpos.shape[0] + env.sim.data.qvel.shape[0] + env.sim.data.cfrc_ext.flat.copy().shape[0]}\")\n"
   ]
  },
  {
   "cell_type": "markdown",
   "metadata": {},
   "source": [
    "Note that the total possible observations is 113 while `env.observation_space` has a size of 111. This is because the first 2 elements of `qpos` are the absolute (x, y) position of the ant. However, this absolute reference frame shouldn't be needed for the objective of moving right. Because of this, the `gym` environment drops these values by default."
   ]
  },
  {
   "cell_type": "code",
   "execution_count": 6,
   "metadata": {},
   "outputs": [
    {
     "data": {
      "text/plain": [
       "(14, 6)"
      ]
     },
     "execution_count": 6,
     "metadata": {},
     "output_type": "execute_result"
    }
   ],
   "source": [
    "# https://roboti.us/forum/index.php?threads/does-d-cfrc_ext-give-torque-force-or-opposite.3368/\n",
    "# The 6D spatial vectors that start with \"c\" have their rotational component first, followed by the translational component. [torque, force] \n",
    "env.sim.data.cfrc_ext.shape\n"
   ]
  },
  {
   "cell_type": "code",
   "execution_count": 7,
   "metadata": {},
   "outputs": [
    {
     "data": {
      "text/plain": [
       "array([-0.09916426, -0.03001602,  0.7669226 ])"
      ]
     },
     "execution_count": 7,
     "metadata": {},
     "output_type": "execute_result"
    }
   ],
   "source": [
    "env.get_body_com(\"torso\")"
   ]
  },
  {
   "cell_type": "code",
   "execution_count": 8,
   "metadata": {},
   "outputs": [
    {
     "data": {
      "text/plain": [
       "(29,)"
      ]
     },
     "execution_count": 8,
     "metadata": {},
     "output_type": "execute_result"
    }
   ],
   "source": [
    "env.state_vector().shape"
   ]
  }
 ],
 "metadata": {
  "interpreter": {
   "hash": "99b64ce098e89eddf1571122fea46431dc161782a7f640410546eec926ee408c"
  },
  "kernelspec": {
   "display_name": "Python 3.8.12 64-bit ('mujoco': conda)",
   "language": "python",
   "name": "python3"
  },
  "language_info": {
   "codemirror_mode": {
    "name": "ipython",
    "version": 3
   },
   "file_extension": ".py",
   "mimetype": "text/x-python",
   "name": "python",
   "nbconvert_exporter": "python",
   "pygments_lexer": "ipython3",
   "version": "3.8.12"
  },
  "orig_nbformat": 4
 },
 "nbformat": 4,
 "nbformat_minor": 2
}
